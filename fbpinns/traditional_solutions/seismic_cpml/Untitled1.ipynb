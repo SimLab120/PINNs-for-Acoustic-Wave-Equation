{
 "cells": [
  {
   "cell_type": "code",
   "execution_count": 1,
   "id": "65ead517-7225-4b65-87d7-b4a3cbc7177f",
   "metadata": {},
   "outputs": [],
   "source": [
    "import numpy as np\n",
    "import matplotlib.pyplot as plt"
   ]
  },
  {
   "cell_type": "code",
   "execution_count": null,
   "id": "dffc3616-de7a-4912-a508-8f602cbb82e9",
   "metadata": {},
   "outputs": [],
   "source": [
    "xmax = 1\n",
    "zmax = "
   ]
  }
 ],
 "metadata": {
  "kernelspec": {
   "display_name": "Python 3 (ipykernel)",
   "language": "python",
   "name": "python3"
  },
  "language_info": {
   "codemirror_mode": {
    "name": "ipython",
    "version": 3
   },
   "file_extension": ".py",
   "mimetype": "text/x-python",
   "name": "python",
   "nbconvert_exporter": "python",
   "pygments_lexer": "ipython3",
   "version": "3.12.5"
  }
 },
 "nbformat": 4,
 "nbformat_minor": 5
}
