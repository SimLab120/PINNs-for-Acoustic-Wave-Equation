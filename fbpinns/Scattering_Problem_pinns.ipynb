{
 "cells": [
  {
   "cell_type": "code",
   "execution_count": 2,
   "id": "7c6d2db5-5b0a-4bea-9a3d-fd87c137524b",
   "metadata": {},
   "outputs": [],
   "source": [
    "import jax\n",
    "import jax.numpy as jnp\n",
    "import numpy as np\n",
    "from fbpinns.util.logger import logger\n",
    "from fbpinns.domains import RectangularDomainND\n",
    "from fbpinns.problems import Problem\n",
    "from fbpinns.problems import WaveEquationConstantVelocity3D\n",
    "from fbpinns.decompositions import RectangularDecompositionND\n",
    "from fbpinns.networks import FCN,AdaptiveFCN,FourierFCN\n",
    "from fbpinns.constants import Constants, get_subdomain_ws\n",
    "from fbpinns.trainers import FBPINNTrainer, PINNTrainer,PINN_model_jit,FBPINN_model_jit,get_inputs\n",
    "from fbpinns.traditional_solutions.seismic_cpml.seismic_CPML_2D_pressure_second_order import seismicCPML2D\n",
    "import time\n",
    "import matplotlib.pyplot as plt\n",
    "from fbpinns.traditional_solutions.seismic_cpml.seismic_CPML_helper import get_dampening_profiles"
   ]
  },
  {
   "cell_type": "code",
   "execution_count": null,
   "id": "edb3e69f-b09c-4c2c-b5d3-d9e70162e9ea",
   "metadata": {},
   "outputs": [],
   "source": []
  }
 ],
 "metadata": {
  "kernelspec": {
   "display_name": "Python 3 (ipykernel)",
   "language": "python",
   "name": "python3"
  },
  "language_info": {
   "codemirror_mode": {
    "name": "ipython",
    "version": 3
   },
   "file_extension": ".py",
   "mimetype": "text/x-python",
   "name": "python",
   "nbconvert_exporter": "python",
   "pygments_lexer": "ipython3",
   "version": "3.12.5"
  }
 },
 "nbformat": 4,
 "nbformat_minor": 5
}
